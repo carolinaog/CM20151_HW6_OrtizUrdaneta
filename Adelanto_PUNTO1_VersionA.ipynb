{
 "metadata": {
  "name": "",
  "signature": "sha256:83a993aca3561002f43104e9670f1f1a29a3413750d4b3efa7504e2aa1746dfe"
 },
 "nbformat": 3,
 "nbformat_minor": 0,
 "worksheets": [
  {
   "cells": [
    {
     "cell_type": "code",
     "collapsed": false,
     "input": [
      "%pylab inline"
     ],
     "language": "python",
     "metadata": {},
     "outputs": [
      {
       "output_type": "stream",
       "stream": "stdout",
       "text": [
        "Populating the interactive namespace from numpy and matplotlib\n"
       ]
      }
     ],
     "prompt_number": 1
    },
    {
     "cell_type": "code",
     "collapsed": false,
     "input": [
      "rt=[0,0,2]\n",
      "rs=[0,0,1]\n",
      "\n",
      "vt=[1,1,1]\n",
      "vs=[2,2,2]"
     ],
     "language": "python",
     "metadata": {},
     "outputs": [],
     "prompt_number": 2
    },
    {
     "cell_type": "code",
     "collapsed": false,
     "input": [
      "#Se obtiene la derivada de la posicion lo cual genera la velocidad\n",
      "def Posicion_punto(V,salto): \n",
      "    V[0]=V[0]+salto[0]\n",
      "    V[1]=V[1]+salto[1]\n",
      "    V[2]=V[2]+salto[2]\n",
      "    return V\n",
      "\n",
      "def Norma_cubo(r_i,r_j):\n",
      "    return np.sqrt((r_i[0]-r_j[0])**2+(r_i[1]-r_j[1])**2+(r_i[2]-r_j[2])**2)\n",
      "\n",
      "def salto(K,paso):\n",
      "    K[0]=K[0]*paso\n",
      "    K[1]=K[1]*paso\n",
      "    K[2]=K[2]*paso\n",
      "    return K\n",
      "\n",
      "#Se obtiene la derivada de la velocidad lo cual genera la aceleracion\n",
      "def Velocidad_punto_x(r_i,r_j,m,salto): #coord1 y coord 2 pueden ser x, y o z.\n",
      "    G=1.0\n",
      "    a=[0,0,0]\n",
      "    a_x=(G*(r_i[0]-r_j[0])*m)/Norma_cubo(r_i,r_j) + salto\n",
      "    a[0]=a_x\n",
      "    a_y=(G*(r_i[1]-r_j[1])*m)/Norma_cubo(r_i,r_j)+ salto\n",
      "    a[1]=a_y\n",
      "    a_z=(G*(r_i[2]-r_j[2])*m)/Norma_cubo(r_i,r_j)+ salto\n",
      "    a[2]=a_z\n",
      "    return a"
     ],
     "language": "python",
     "metadata": {},
     "outputs": [],
     "prompt_number": 3
    },
    {
     "cell_type": "code",
     "collapsed": false,
     "input": [
      "r_i=[0,0,0]\n",
      "r_j=[1,1,1]\n",
      "Norma_cubo(r_i,r_j)"
     ],
     "language": "python",
     "metadata": {},
     "outputs": [
      {
       "metadata": {},
       "output_type": "pyout",
       "prompt_number": 4,
       "text": [
        "1.7320508075688772"
       ]
      }
     ],
     "prompt_number": 4
    },
    {
     "cell_type": "code",
     "collapsed": false,
     "input": [
      "n_points=100\n",
      "\n",
      "r_T = np.zeros((n_points,3))\n",
      "r_S = np.zeros((n_points,3))\n",
      "\n",
      "v_T =np.zeros((n_points,3))\n",
      "v_S =np.zeros((n_points,3))"
     ],
     "language": "python",
     "metadata": {},
     "outputs": [],
     "prompt_number": 5
    },
    {
     "cell_type": "code",
     "collapsed": false,
     "input": [
      "#Constane que determina el delta t\n",
      "h=1\n",
      "#Definicion de RungeKutta\n",
      "def RungeKuttaFourthOrderStep(r_T,r_S,m_T,m_S,v_T,v_S, N): #tiempo??\n",
      "    t= N*h\n",
      "    \n",
      "    s=[0,0,0]\n",
      "    \n",
      "    K1_PosT=Posicion_punto(v_T,s)\n",
      "    K1_VelT=Velocidad_punto(r_T,r_S,m_S,s)\n",
      "\n",
      "    K1_PosS=Posicion_punto(v_S,s)\n",
      "    K1_VelS=Velocidad_punto(r_S,r_T,m_T,s)    \n",
      "    \n",
      "    #K2\n",
      "    s=salto(K1_PosT,h/2)\n",
      "    K2_PosT=Posicion_punto(v_T,s)\n",
      "    K2_VelT=Velocidad_punto(r_T,r_S,m_S,s)\n",
      "    \n",
      "    K2_PosS=Posicion_punto(v_S,s)\n",
      "    K2_VelS=Velocidad_punto(r_S,r_T,m_T,s)    \n",
      "    \n",
      "    #K3\n",
      "    s=salto(K2_PosT,h/2)\n",
      "    K3_PosT=Posicion_punto(v_T,s)\n",
      "    K3_VelT=Velocidad_punto(r_T,r_S,m_S,s)\n",
      "    \n",
      "    K3_PosS=Posicion_punto(v_S,s)\n",
      "    K3_VelS=Velocidad_punto(r_S,r_T,m_T,s)\n",
      "    \n",
      "    #K4\n",
      "    s=salto(K3_PosT,h/2)\n",
      "    K4_PosT=Posicion_punto(v_T,s)\n",
      "    K4_VelT=Velocidad_punto(r_T,r_S,m_S,s)\n",
      "    \n",
      "    K4_PosS=Posicion_punto(v_S,s)\n",
      "    K4_VelS=Velocidad_punto(r_S,r_T,m_T,s)\n",
      "    \n",
      "    return K1_PosT"
     ],
     "language": "python",
     "metadata": {},
     "outputs": [],
     "prompt_number": 6
    },
    {
     "cell_type": "code",
     "collapsed": false,
     "input": [
      "r_T[0]=np.array([1,1,0])\n",
      "r_S[0]=[0,0,0]\n",
      "\n",
      "v_T[0]=[1,0,0]\n",
      "v_S[0]=[0,0,0]\n",
      "\n",
      "m_T=1\n",
      "m_S=1\n",
      "\n",
      "\n",
      "for i in range(1,2):\n",
      "    N=2\n",
      "    r_T[i] = RungeKuttaFourthOrderStep(r_T[i-1],r_S[i-1],m_T,m_S,v_T[i-1],v_S[i-1], N)\n",
      "print r_T"
     ],
     "language": "python",
     "metadata": {},
     "outputs": [
      {
       "ename": "NameError",
       "evalue": "global name 'Velocidad_punto' is not defined",
       "output_type": "pyerr",
       "traceback": [
        "\u001b[0;31m---------------------------------------------------------------------------\u001b[0m\n\u001b[0;31mNameError\u001b[0m                                 Traceback (most recent call last)",
        "\u001b[0;32m<ipython-input-8-46b5c2ccef4a>\u001b[0m in \u001b[0;36m<module>\u001b[0;34m()\u001b[0m\n\u001b[1;32m     11\u001b[0m \u001b[0;32mfor\u001b[0m \u001b[0mi\u001b[0m \u001b[0;32min\u001b[0m \u001b[0mrange\u001b[0m\u001b[0;34m(\u001b[0m\u001b[0;36m1\u001b[0m\u001b[0;34m,\u001b[0m\u001b[0;36m2\u001b[0m\u001b[0;34m)\u001b[0m\u001b[0;34m:\u001b[0m\u001b[0;34m\u001b[0m\u001b[0m\n\u001b[1;32m     12\u001b[0m     \u001b[0mN\u001b[0m\u001b[0;34m=\u001b[0m\u001b[0;36m2\u001b[0m\u001b[0;34m\u001b[0m\u001b[0m\n\u001b[0;32m---> 13\u001b[0;31m     \u001b[0mr_T\u001b[0m\u001b[0;34m[\u001b[0m\u001b[0mi\u001b[0m\u001b[0;34m]\u001b[0m \u001b[0;34m=\u001b[0m \u001b[0mRungeKuttaFourthOrderStep\u001b[0m\u001b[0;34m(\u001b[0m\u001b[0mr_T\u001b[0m\u001b[0;34m[\u001b[0m\u001b[0mi\u001b[0m\u001b[0;34m-\u001b[0m\u001b[0;36m1\u001b[0m\u001b[0;34m]\u001b[0m\u001b[0;34m,\u001b[0m\u001b[0mr_S\u001b[0m\u001b[0;34m[\u001b[0m\u001b[0mi\u001b[0m\u001b[0;34m-\u001b[0m\u001b[0;36m1\u001b[0m\u001b[0;34m]\u001b[0m\u001b[0;34m,\u001b[0m\u001b[0mm_T\u001b[0m\u001b[0;34m,\u001b[0m\u001b[0mm_S\u001b[0m\u001b[0;34m,\u001b[0m\u001b[0mv_T\u001b[0m\u001b[0;34m[\u001b[0m\u001b[0mi\u001b[0m\u001b[0;34m-\u001b[0m\u001b[0;36m1\u001b[0m\u001b[0;34m]\u001b[0m\u001b[0;34m,\u001b[0m\u001b[0mv_S\u001b[0m\u001b[0;34m[\u001b[0m\u001b[0mi\u001b[0m\u001b[0;34m-\u001b[0m\u001b[0;36m1\u001b[0m\u001b[0;34m]\u001b[0m\u001b[0;34m,\u001b[0m \u001b[0mN\u001b[0m\u001b[0;34m)\u001b[0m\u001b[0;34m\u001b[0m\u001b[0m\n\u001b[0m\u001b[1;32m     14\u001b[0m \u001b[0;32mprint\u001b[0m \u001b[0mr_T\u001b[0m\u001b[0;34m\u001b[0m\u001b[0m\n",
        "\u001b[0;32m<ipython-input-6-ab976b1d51f1>\u001b[0m in \u001b[0;36mRungeKuttaFourthOrderStep\u001b[0;34m(r_T, r_S, m_T, m_S, v_T, v_S, N)\u001b[0m\n\u001b[1;32m      8\u001b[0m \u001b[0;34m\u001b[0m\u001b[0m\n\u001b[1;32m      9\u001b[0m     \u001b[0mK1_PosT\u001b[0m\u001b[0;34m=\u001b[0m\u001b[0mPosicion_punto\u001b[0m\u001b[0;34m(\u001b[0m\u001b[0mv_T\u001b[0m\u001b[0;34m,\u001b[0m\u001b[0ms\u001b[0m\u001b[0;34m)\u001b[0m\u001b[0;34m\u001b[0m\u001b[0m\n\u001b[0;32m---> 10\u001b[0;31m     \u001b[0mK1_VelT\u001b[0m\u001b[0;34m=\u001b[0m\u001b[0mVelocidad_punto\u001b[0m\u001b[0;34m(\u001b[0m\u001b[0mr_T\u001b[0m\u001b[0;34m,\u001b[0m\u001b[0mr_S\u001b[0m\u001b[0;34m,\u001b[0m\u001b[0mm_S\u001b[0m\u001b[0;34m,\u001b[0m\u001b[0ms\u001b[0m\u001b[0;34m)\u001b[0m\u001b[0;34m\u001b[0m\u001b[0m\n\u001b[0m\u001b[1;32m     11\u001b[0m \u001b[0;34m\u001b[0m\u001b[0m\n\u001b[1;32m     12\u001b[0m     \u001b[0mK1_PosS\u001b[0m\u001b[0;34m=\u001b[0m\u001b[0mPosicion_punto\u001b[0m\u001b[0;34m(\u001b[0m\u001b[0mv_S\u001b[0m\u001b[0;34m,\u001b[0m\u001b[0ms\u001b[0m\u001b[0;34m)\u001b[0m\u001b[0;34m\u001b[0m\u001b[0m\n",
        "\u001b[0;31mNameError\u001b[0m: global name 'Velocidad_punto' is not defined"
       ]
      }
     ],
     "prompt_number": 8
    },
    {
     "cell_type": "code",
     "collapsed": false,
     "input": [],
     "language": "python",
     "metadata": {},
     "outputs": []
    }
   ],
   "metadata": {}
  }
 ]
}